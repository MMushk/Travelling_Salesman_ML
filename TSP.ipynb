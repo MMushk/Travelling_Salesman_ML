{
 "metadata": {
  "language_info": {
   "codemirror_mode": {
    "name": "ipython",
    "version": 3
   },
   "file_extension": ".py",
   "mimetype": "text/x-python",
   "name": "python",
   "nbconvert_exporter": "python",
   "pygments_lexer": "ipython3",
   "version": "3.7.9-final"
  },
  "orig_nbformat": 2,
  "kernelspec": {
   "name": "python3",
   "display_name": "Python 3.7.9 64-bit ('CPLEX': conda)",
   "metadata": {
    "interpreter": {
     "hash": "c37beae6d82f29a37bf848d62a896ff4e3cf3a168205d062f6d48793343d2431"
    }
   }
  }
 },
 "nbformat": 4,
 "nbformat_minor": 2,
 "cells": [
  {
   "cell_type": "code",
   "execution_count": 1,
   "metadata": {},
   "outputs": [],
   "source": [
    "import pandas as pd\n",
    "import random \n",
    "from docplex.mp.model import Model"
   ]
  },
  {
   "source": [
    "## Objective Function Indicator Constraint\n",
    "\n",
    "## $Min \\; Z= \\; \\displaystyle\\sum_{i=1}^n\\sum_{j=1,j\\neq i}^n d_{ij}  x_{ij} $\n",
    " $Subject \\;to:$\n",
    " \n",
    " $\\displaystyle\\sum_{j=1, j\\neq i}^n x_{ij} = 1, \\; \\forall \\;i \\in N$ \n",
    " \n",
    " $\\displaystyle\\sum_{i=1, i\\neq j}^n x_{ij} = 1, \\; \\forall \\;j \\in N$\n"
   ],
   "cell_type": "markdown",
   "metadata": {}
  },
  {
   "cell_type": "code",
   "execution_count": 46,
   "metadata": {
    "tags": []
   },
   "outputs": [],
   "source": [
    "mdl.minimize(mdl.sum(distancia[grupo][i] * x[i] for i in arcos))\n",
    "\n",
    "for node in nodes:\n",
    "    mdl.add_constraint(mdl.sum(x[(i,j)] for i,j in arcos if i == node)==1,ctname= 'out_%d'%node)\n",
    "    \n",
    "for node in nodes:\n",
    "    mdl.add_constraint(mdl.sum(x[(i,j)] for i,j in arcos if j == node)==1,ctname= 'in_%d'%node)\n",
    "\n",
    "for i,j in arcos:\n",
    "    if j !=nodes[0]:\n",
    "        mdl.add_indicator(x[(i,j)],d[i]+1==d[j],name='order_(%d, %d)'%(i,j))"
   ]
  }
 ]
}