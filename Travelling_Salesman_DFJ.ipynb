{
 "metadata": {
  "language_info": {
   "codemirror_mode": {
    "name": "ipython",
    "version": 3
   },
   "file_extension": ".py",
   "mimetype": "text/x-python",
   "name": "python",
   "nbconvert_exporter": "python",
   "pygments_lexer": "ipython3",
   "version": "3.7.9-final"
  },
  "orig_nbformat": 2,
  "kernelspec": {
   "name": "python3",
   "display_name": "Python 3.7.9 64-bit ('CPLEX': conda)",
   "metadata": {
    "interpreter": {
     "hash": "c37beae6d82f29a37bf848d62a896ff4e3cf3a168205d062f6d48793343d2431"
    }
   }
  }
 },
 "nbformat": 4,
 "nbformat_minor": 2,
 "cells": [
  {
   "cell_type": "code",
   "execution_count": 1,
   "metadata": {},
   "outputs": [],
   "source": [
    "import pandas as pd\n",
    "from docplex.mp.model import Model\n",
    "import tsplib95"
   ]
  },
  {
   "cell_type": "code",
   "execution_count": 2,
   "metadata": {},
   "outputs": [
    {
     "output_type": "execute_result",
     "data": {
      "text/plain": [
       "'3.7.9 (default, Aug 31 2020, 17:10:11) [MSC v.1916 64 bit (AMD64)]'"
      ]
     },
     "metadata": {},
     "execution_count": 2
    }
   ],
   "source": [
    "sys.version"
   ]
  },
  {
   "cell_type": "code",
   "execution_count": 3,
   "metadata": {},
   "outputs": [
    {
     "output_type": "stream",
     "name": "stdout",
     "text": [
      "NAME: ts225\nCOMMENT: 225-city problem (Juenger,Raecke,Tschoecke)\nTYPE: TSP\nDIMENSION: 225\nEDGE_WEIGHT_TYPE: EUC_2D\nNODE_COORD_SECTION:\n1 4000 4000\n2 4000 4500\n3 4000 5000\n4 4000 5500\n5 4000 6000\n6 4000 6500\n7 4000 7000\n8 4000 7500\n9 4000 8000\n10 4000 8500\n11 4000 9000\n12 4000 9500\n13 4000 10000\n14 4000 10500\n15 4000 11000\n16 4000 11500\n17 4000 12000\n18 4000 12500\n19 4000 13000\n20 4000 13500\n21 4000 14000\n22 4000 14500\n23 4000 15000\n24 4000 15500\n25 4000 16000\n26 7000 4000\n27 7000 4500\n28 7000 5000\n29 7000 5500\n30 7000 6000\n31 7000 6500\n32 7000 7000\n33 7000 7500\n34 7000 8000\n35 7000 8500\n36 7000 9000\n37 7000 9500\n38 7000 10000\n39 7000 10500\n40 7000 11000\n41 7000 11500\n42 7000 12000\n43 7000 12500\n44 7000 13000\n45 7000 13500\n46 7000 14000\n47 7000 14500\n48 7000 15000\n49 7000 15500\n50 7000 16000\n51 10000 4000\n52 10000 4500\n53 10000 5000\n54 10000 5500\n55 10000 6000\n56 10000 6500\n57 10000 7000\n58 10000 7500\n59 10000 8000\n60 10000 8500\n61 10000 9000\n62 10000 9500\n63 10000 10000\n64 10000 10500\n65 10000 11000\n66 10000 11500\n67 10000 12000\n68 10000 12500\n69 10000 13000\n70 10000 13500\n71 10000 14000\n72 10000 14500\n73 10000 15000\n74 10000 15500\n75 10000 16000\n76 13000 4000\n77 13000 4500\n78 13000 5000\n79 13000 5500\n80 13000 6000\n81 13000 6500\n82 13000 7000\n83 13000 7500\n84 13000 8000\n85 13000 8500\n86 13000 9000\n87 13000 9500\n88 13000 10000\n89 13000 10500\n90 13000 11000\n91 13000 11500\n92 13000 12000\n93 13000 12500\n94 13000 13000\n95 13000 13500\n96 13000 14000\n97 13000 14500\n98 13000 15000\n99 13000 15500\n100 13000 16000\n101 16000 4000\n102 16000 4500\n103 16000 5000\n104 16000 5500\n105 16000 6000\n106 16000 6500\n107 16000 7000\n108 16000 7500\n109 16000 8000\n110 16000 8500\n111 16000 9000\n112 16000 9500\n113 16000 10000\n114 16000 10500\n115 16000 11000\n116 16000 11500\n117 16000 12000\n118 16000 12500\n119 16000 13000\n120 16000 13500\n121 16000 14000\n122 16000 14500\n123 16000 15000\n124 16000 15500\n125 16000 16000\n126 4500 4000\n127 5000 4000\n128 5500 4000\n129 6000 4000\n130 6500 4000\n131 4500 7000\n132 5000 7000\n133 5500 7000\n134 6000 7000\n135 6500 7000\n136 4500 10000\n137 5000 10000\n138 5500 10000\n139 6000 10000\n140 6500 10000\n141 4500 13000\n142 5000 13000\n143 5500 13000\n144 6000 13000\n145 6500 13000\n146 4500 16000\n147 5000 16000\n148 5500 16000\n149 6000 16000\n150 6500 16000\n151 7500 4000\n152 8000 4000\n153 8500 4000\n154 9000 4000\n155 9500 4000\n156 7500 7000\n157 8000 7000\n158 8500 7000\n159 9000 7000\n160 9500 7000\n161 7500 10000\n162 8000 10000\n163 8500 10000\n164 9000 10000\n165 9500 10000\n166 7500 13000\n167 8000 13000\n168 8500 13000\n169 9000 13000\n170 9500 13000\n171 7500 16000\n172 8000 16000\n173 8500 16000\n174 9000 16000\n175 9500 16000\n176 10500 4000\n177 11000 4000\n178 11500 4000\n179 12000 4000\n180 12500 4000\n181 10500 7000\n182 11000 7000\n183 11500 7000\n184 12000 7000\n185 12500 7000\n186 10500 10000\n187 11000 10000\n188 11500 10000\n189 12000 10000\n190 12500 10000\n191 10500 13000\n192 11000 13000\n193 11500 13000\n194 12000 13000\n195 12500 13000\n196 10500 16000\n197 11000 16000\n198 11500 16000\n199 12000 16000\n200 12500 16000\n201 13500 4000\n202 14000 4000\n203 14500 4000\n204 15000 4000\n205 15500 4000\n206 13500 7000\n207 14000 7000\n208 14500 7000\n209 15000 7000\n210 15500 7000\n211 13500 10000\n212 14000 10000\n213 14500 10000\n214 15000 10000\n215 15500 10000\n216 13500 13000\n217 14000 13000\n218 14500 13000\n219 15000 13000\n220 15500 13000\n221 13500 16000\n222 14000 16000\n223 14500 16000\n224 15000 16000\n225 15500 16000\nEOF\n"
     ]
    }
   ],
   "source": [
    "problem = tsplib95.load('Data/ts225.tsp')\n",
    "graph = problem.get_graph()\n",
    "print(problem.render())"
   ]
  },
  {
   "source": [
    "## Objective function\n",
    "\n",
    "# $Min \\; Z= \\; \\displaystyle\\sum_{i=1}^n\\sum_{j=1,j\\neq i}^n d_{ij}  x_{ij} $\n",
    "## $Subject \\;to:$\n",
    "## $\\displaystyle\\sum_{j=1, j\\neq i}^n x_{ij} = 1, \\; \\forall \\;i \\in N$\n",
    "## $\\displaystyle\\sum_{i=1, i\\neq j}^n x_{ij} = 1, \\; \\forall \\;j \\in N$\n",
    "## $\\displaystyle\\sum_{i\\in Q} \\sum_{j\\neq i, j\\in Q} x_{ij} \\le |Q| - 1 \\; \\forall \\; Q \\subset \\{1,...,n\\},\\; |Q| \\ge2  $"
   ],
   "cell_type": "markdown",
   "metadata": {}
  },
  {
   "cell_type": "code",
   "execution_count": 4,
   "metadata": {},
   "outputs": [],
   "source": [
    "arcos = []\n",
    "distancia = {}\n",
    "for i in list(problem.get_edges()):\n",
    "    if problem.get_weight(*i) != 0:\n",
    "        arcos.append(i)\n",
    "        distancia[i] = problem.get_weight(*i)\n",
    "nodes = list(problem.get_nodes())"
   ]
  },
  {
   "source": [
    "# Modelo Exacto"
   ],
   "cell_type": "markdown",
   "metadata": {
    "tags": []
   }
  },
  {
   "cell_type": "code",
   "execution_count": 5,
   "metadata": {},
   "outputs": [],
   "source": [
    "mdl = Model('TSP')\n",
    "x = mdl.binary_var_dict(arcos, name = 'x')\n",
    "d = mdl.continuous_var_dict(nodes, name = 'd')"
   ]
  },
  {
   "cell_type": "code",
   "execution_count": 6,
   "metadata": {},
   "outputs": [],
   "source": [
    "mdl.minimize(mdl.sum(distancia[i] * x[i] for i in arcos))"
   ]
  },
  {
   "cell_type": "code",
   "execution_count": 7,
   "metadata": {
    "tags": []
   },
   "outputs": [],
   "source": [
    "for node in nodes:\n",
    "    mdl.add_constraint(mdl.sum(x[(i,j)] for i,j in arcos if i == node)==1,ctname= 'out_%d'%node)\n",
    "\n",
    "for node in nodes:\n",
    "    mdl.add_constraint(mdl.sum(x[(i,j)] for i,j in arcos if j == node)==1,ctname= 'in_%d'%node)\n",
    "\n",
    "for i,j in arcos:\n",
    "    if j !=1:\n",
    "        mdl.add_indicator(x[(i,j)],d[i]+1==d[j],name='order_(%d, %d)'%(i,j))"
   ]
  },
  {
   "cell_type": "code",
   "execution_count": 10,
   "metadata": {
    "tags": []
   },
   "outputs": [],
   "source": [
    "mdl.set_time_limit(152)"
   ]
  },
  {
   "cell_type": "code",
   "execution_count": 11,
   "metadata": {},
   "outputs": [
    {
     "output_type": "stream",
     "name": "stdout",
     "text": [
      "Version identifier: 12.10.0.0 | 2019-11-26 | 843d4de2ae\n",
      "CPXPARAM_Read_DataCheck                          1\n",
      "CPXPARAM_RandomSeed                              201903125\n",
      "CPXPARAM_TimeLimit                               152\n",
      "Tried aggregator 2 times.\n",
      "MIP Presolve modified 24976 coefficients.\n",
      "Aggregator did 24976 substitutions.\n",
      "Reduced MIP has 25650 rows, 75825 columns, and 176400 nonzeros.\n",
      "Reduced MIP has 50400 binaries, 0 generals, 0 SOSs, and 50176 indicators.\n",
      "Presolve time = 0.33 sec. (3767.45 ticks)\n",
      "Probing time = 0.70 sec. (79.55 ticks)\n",
      "Tried aggregator 1 time.\n",
      "Detecting symmetries...\n",
      "Reduced MIP has 25650 rows, 75825 columns, and 176400 nonzeros.\n",
      "Reduced MIP has 50400 binaries, 0 generals, 0 SOSs, and 50176 indicators.\n",
      "Presolve time = 0.19 sec. (121.18 ticks)\n",
      "Probing time = 0.20 sec. (23.58 ticks)\n",
      "Clique table members: 25426.\n",
      "MIP emphasis: balance optimality and feasibility.\n",
      "MIP search method: dynamic search.\n",
      "Parallel mode: deterministic, using up to 12 threads.\n",
      "Root relaxation solution time = 0.28 sec. (65.70 ticks)\n",
      "\n",
      "        Nodes                                         Cuts/\n",
      "   Node  Left     Objective  IInf  Best Integer    Best Bound    ItCnt     Gap\n",
      "\n",
      "      0     0   115605.0000   224                 115605.0000       60         \n",
      "      0     0   115605.0000   224                    Cuts: 52      111         \n",
      "      0     0   115605.0000   224                    Cuts: 19      161         \n",
      "      0     0   115605.0000   224                    Cuts: 20      179         \n",
      "Detecting symmetries...\n",
      "      0     2   115605.0000   230                 115605.0000      179         \n",
      "Elapsed time = 7.80 sec. (16282.39 ticks, tree = 0.02 MB, solutions = 0)\n",
      "     49    41    infeasible                       115605.0000      539         \n",
      "    183   131   117223.0000   214                 115605.0000     1677         \n",
      "    347   283   115605.0000   209                 115605.0000     3112         \n",
      "    547   428   115605.0000   201                 115605.0000     4008         \n",
      "    735   624   118930.0000   201                 115605.0000     5168         \n",
      "    925   781   117516.0000   189                 115605.0000     6085         \n",
      "   1067   905   119841.0000   180                 115605.0000     6892         \n",
      "   1195  1010   116516.0000   177                 115605.0000     7836         \n",
      "   1340  1177   118637.0000   169                 115605.0000     9116         \n",
      "   1617  1439   118008.0000   156                 115605.0000    11303         \n",
      "Elapsed time = 20.31 sec. (19401.98 ticks, tree = 33.03 MB, solutions = 0)\n",
      "   2303  1860   123861.0000   135                 115605.0000    14352         \n",
      "   3012  2615   130026.0000   118                 115605.0000    19509         \n",
      "   3749  3205   137243.0000    92                 115605.0000    22910         \n",
      "   4478  3810   145757.0000    57                 115605.0000    26766         \n",
      "   5212  4398   144792.0000    27                 115605.0000    30982         \n",
      "*  5808+ 4782                       181365.0000   115605.0000            36.26%\n",
      "   5944  4984   189488.0000     1   181365.0000   115605.0000    36469   36.26%\n",
      "*  5951  4941      integral     0   180678.0000   115605.0000    35964   36.02%\n",
      "*  5956  4884      integral     0   177719.0000   115605.0000    35242   34.95%\n",
      "   6568  5472   116516.0000   180   177719.0000   115605.0000    44469   34.95%\n",
      "   7228  6037   126846.0000   171   177719.0000   115605.0000    48394   34.95%\n",
      "*  7562+ 6345                       173933.0000   115605.0000            33.53%\n",
      "*  7571+ 6330                       173876.0000   115605.0000            33.51%\n",
      "   7601  6393   115605.0000   204   173876.0000   115605.0000    51191   33.51%\n",
      "*  7752+ 6389                       169801.0000   115605.0000            31.92%\n",
      "\n",
      "Performing restart 1\n",
      "\n",
      "Repeating presolve.\n",
      "Tried aggregator 1 time.\n",
      "Reduced MIP has 25650 rows, 75825 columns, and 176400 nonzeros.\n",
      "Reduced MIP has 50400 binaries, 0 generals, 0 SOSs, and 50176 indicators.\n",
      "Presolve time = 0.20 sec. (137.83 ticks)\n",
      "Tried aggregator 1 time.\n",
      "Reduced MIP has 25650 rows, 75825 columns, and 176400 nonzeros.\n",
      "Reduced MIP has 50400 binaries, 0 generals, 0 SOSs, and 50176 indicators.\n",
      "Presolve time = 0.28 sec. (187.95 ticks)\n",
      "Represolve time = 1.44 sec. (500.69 ticks)\n",
      "   7952     0   115914.0000   303   169801.0000      Cuts: 11    54238   31.74%\n",
      "   7952     0   116223.0000   303   169801.0000      Cuts: 20    54273   31.55%\n",
      "   7952     0   116458.5000   303   169801.0000      Cuts: 32    54334   31.41%\n",
      "   7952     0   116812.0000   303   169801.0000      Cuts: 39    54399   31.21%\n",
      "   7952     0   116914.0000   303   169801.0000      Cuts: 31    54509   31.15%\n",
      "   7952     0   117229.2500   303   169801.0000      Cuts: 24    54610   30.95%\n",
      "   7952     0   117605.0000   303   169801.0000      Cuts: 39    54680   30.72%\n",
      "   7952     0   117946.0000   303   169801.0000      Cuts: 27    54753   30.54%\n",
      "   7952     0   118092.5000   303   169801.0000      Cuts: 15    54774   30.45%\n",
      "   7952     0   118341.0000   303   169801.0000      Cuts: 18    54861   30.31%\n",
      "   7952     0   118867.3333   303   169801.0000      Cuts: 36    54960   30.00%\n",
      "   7952     0   118967.3333   303   169801.0000      Cuts: 24    55024   29.94%\n",
      "   7952     0   118985.3333   303   169801.0000      Cuts: 18    55042   29.93%\n",
      "   7952     0   118985.3333   303   169801.0000      Cuts: 11    55060   29.93%\n",
      "   7952     0   118985.3333   303   169801.0000       Cuts: 3    55074   29.93%\n",
      "   7952     0   118985.3333   303   169801.0000      Cuts: 14    55088   29.93%\n",
      "   7952     0   118985.3333   303   169801.0000    Cliques: 5    55096   29.93%\n",
      "   7952     0   118985.3333   303   169801.0000      Cuts: 10    55111   29.93%\n",
      "*  7952+    0                       164979.0000   118985.3333            27.88%\n",
      "   7952     0  -1.00000e+75     0   164979.0000   118985.3333    55111   27.88%\n",
      "   7952     2   118985.3333   316   164979.0000   118985.3333    55111   27.88%\n",
      "Elapsed time = 73.97 sec. (45455.18 ticks, tree = 0.02 MB, solutions = 12)\n",
      "*  7954+    1                       162654.0000   118985.3333            26.85%\n",
      "   7954     3   118985.3333   314   162654.0000   118985.3333    55121   26.85%\n",
      "   7961     9   119108.5000   299   162654.0000   118985.3333    55186   26.85%\n",
      "*  7967+    9                       161743.0000   118985.3333            26.44%\n",
      "   7970    16   119197.5000   282   161743.0000   118985.3333    55232   26.44%\n",
      "   7981    22   119015.0000   310   161743.0000   118985.3333    55338   26.44%\n",
      "   7997    27   119197.5000   313   161743.0000   118985.3333    55380   26.44%\n",
      "   8021    48   119289.0000   363   161743.0000   118985.3333    55697   26.44%\n",
      "   8063    94   119357.0000   373   161743.0000   118985.3333    56439   26.44%\n",
      "   8222   141   120637.0000   216   161743.0000   118985.3333    57171   26.44%\n",
      "   8479   385   121134.0000   210   161743.0000   118985.3333    59816   26.44%\n",
      "   8722   673   123344.0000   204   161743.0000   118985.3333    62529   26.44%\n",
      "Elapsed time = 105.49 sec. (56088.76 ticks, tree = 12.84 MB, solutions = 15)\n",
      "   9039   882   132809.5000   200   161743.0000   118985.3333    64368   26.44%\n",
      "   9448  1049   133714.5000   204   161743.0000   118985.3333    65732   26.44%\n",
      "   9887  1329   138058.0000   184   161743.0000   118985.3333    67757   26.44%\n",
      "  10314  2202   135326.0000   156   161743.0000   118985.3333    72563   26.44%\n",
      "  10752  2581   153485.0000   161   161743.0000   118985.3333    74846   26.44%\n",
      "  11185  2899   157188.0000   170   161743.0000   118985.3333    76968   26.44%\n",
      "  11619  3294   120158.0000   329   161743.0000   118985.3333    80168   26.44%\n",
      "  12066  3654   124929.0000   179   161743.0000   119142.6667    84090   26.34%\n",
      "Starting limited solution polishing.\n",
      "* 12390+ 3897                       161260.0000   119153.0000            26.11%\n",
      "  12554  4105   129972.0000   161   161260.0000   119153.0000    88298   26.11%\n",
      "  13022  4484   134501.0000   146   161260.0000   119153.0000    91261   26.11%\n",
      "Elapsed time = 145.58 sec. (65653.98 ticks, tree = 115.47 MB, solutions = 16)\n",
      "  13471  4922   141461.0000   134   161260.0000   119153.0000    93730   26.11%\n",
      "\n",
      "Clique cuts applied:  100\n",
      "Implied bound cuts applied:  3\n",
      "Zero-half cuts applied:  18\n",
      "Gomory fractional cuts applied:  35\n",
      "\n",
      "Root node processing (before b&c):\n",
      "  Real time             =    7.61 sec. (16271.91 ticks)\n",
      "Parallel b&c, 12 threads:\n",
      "  Real time             =  144.69 sec. (51065.18 ticks)\n",
      "  Sync time (average)   =   16.84 sec.\n",
      "  Wait time (average)   =    0.15 sec.\n",
      "                          ------------\n",
      "Total (root+branch&cut) =  152.30 sec. (67337.09 ticks)\n",
      "\n",
      "KeyboardInterrupt\n"
     ]
    }
   ],
   "source": [
    "solucion = mdl.solve(log_output= True)"
   ]
  },
  {
   "cell_type": "code",
   "execution_count": null,
   "metadata": {},
   "outputs": [],
   "source": []
  }
 ]
}